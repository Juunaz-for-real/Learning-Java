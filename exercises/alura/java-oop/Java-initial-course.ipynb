{
 "cells": [
  {
   "attachments": {},
   "cell_type": "markdown",
   "metadata": {},
   "source": [
    "# Java JRE e JDK: compile e execute o seu programa\n",
    "\n",
    "## ⭐ Questão 1 (Java)\n",
    "**Qual é o grande benefício de uma Máquina Virtual Java (JVM)?**\n",
    "\n",
    "**Resposta:** \n",
    "O produto sempre será o mesmo \"executável\" ou Bytecode que será executado pela Maquina Virtual Java, totalmente independente do sistema operacional. Assim não é preciso rescrever ou adaptar o código para rodar em um outro sistema operacional. Temos um único executável para todos os sistemas!"
   ]
  },
  {
   "attachments": {},
   "cell_type": "markdown",
   "metadata": {},
   "source": [
    "## ⭐ Questão 2 (Java)\n",
    "\n",
    "**A linguagem Java nasceu com algumas características que são mantidas até hoje. Selecione todas que se aplicam:**\n",
    "\n",
    "**Resposta:**\n",
    "- Parecido com C++;\n",
    "- Muitas bibliotecas;\n",
    "- Multiplataforma."
   ]
  },
  {
   "attachments": {},
   "cell_type": "markdown",
   "metadata": {},
   "source": [
    "## ⭐ Questão 3 (Java)\n",
    "**Dependendo da linguagem de programação existem vários tipos de sistemas que você pode desenvolver, como por exemplo:**\n",
    "\n",
    "1. Sistemas para Web (Web Sites ou Web Apps)\n",
    "2. Sistemas puramente \"Server-Side\"\n",
    "3. Aplicativos para Android\n",
    "4. Applets que rodam no navegador\n",
    "\n",
    "**Quais tipos de sistemas você pode criar com a linguagem Java?**\n",
    "\n",
    "**Resposta:** Todos."
   ]
  },
  {
   "attachments": {},
   "cell_type": "markdown",
   "metadata": {},
   "source": [
    "## ⭐ Questão 4 (Java)\n",
    "**Qual é a diferença entre o executável do Windows (exe) e o executável do mundo Java (Bytecode)?**\n",
    "\n",
    "**Resposta:** \n",
    "- Os executáveis do mundo Java são portáteis, os do mundo Windows não.\n",
    "- Os executáveis do mundo Windows podem ser executados diretamente no sistema operacional, os do mundo Java precisam da Máquina Virtual."
   ]
  },
  {
   "attachments": {},
   "cell_type": "markdown",
   "metadata": {},
   "source": [
    "## ⭐ Questão 5 (Java)\n",
    "\n",
    "**Todas as afirmações abaixo sobre o Bytecode são verdadeiras, exceto:**\n",
    "\n",
    "**Resposta:** A afirmação \"O Bytecode é o código fonte\" não é verdadeira. O código fonte é para o desenvolvedor entender, o Bytecode foi criado e otimizado para a máquina virtual."
   ]
  },
  {
   "attachments": {},
   "cell_type": "markdown",
   "metadata": {},
   "source": [
    "## ⭐ Questão 6 (Java)\n",
    "**Quais das afirmações abaixo são verdadeiras referente a JDK e JRE?**\n",
    "\n",
    "**Resposta:**\n",
    "- O JRE é o ambiente para executar uma aplicação Java.\n",
    "- O JDK é o ambiente para executar uma aplicação Java e possui várias ferramentas de desenvolvimento."
   ]
  },
  {
   "attachments": {},
   "cell_type": "markdown",
   "metadata": {},
   "source": [
    "## ⭐ Questão 7 (Java)\n",
    "\n",
    "**A Ana está começando com desenvolvimento Java e já aprendeu que a entrada de uma aplicação é sempre a função (ou método) main. Porém, ela não se lembra qual era a definição correta (palavras chaves e parâmetros) dessa função/método:**\n",
    "```java\n",
    "class Programa {\n",
    "\n",
    "    ??? main ???{\n",
    "        System.out.println(\"Você pode ajudar a Ana?\");\n",
    "    }\n",
    "}\n",
    "```\n",
    "**Qual é a definição correta?**\n",
    "\n",
    "**Resposta:** \n",
    "```java\n",
    "public static void main(String[] args)\n",
    "```"
   ]
  },
  {
   "attachments": {},
   "cell_type": "markdown",
   "metadata": {},
   "source": [
    "## ⭐ Questão 8 (Java)\n",
    "**Veja as afirmações abaixo sobre a compilação e execução de código Java:**\n",
    "\n",
    "1. Durante a compilação acontece uma verificação sintática do código fonte.\n",
    "2. Na compilação e execução podem aparecer erros.\n",
    "3. A JVM lê e executa o Bytecode.\n",
    "4. O compilador gera o Bytecode caso não tenha nenhum erro sintático no código fonte.\n",
    "\n",
    "**Quais afirmações são verdadeiras?**\n",
    "\n",
    "**Resposta:** Todas as afirmações são verdadeiras."
   ]
  },
  {
   "attachments": {},
   "cell_type": "markdown",
   "metadata": {},
   "source": [
    "## ⭐ Questão 9 (CMD)\n",
    "**O Pedro está trabalhando pela primeira vez com o sistema operacional Linux, mas está estranhando, pois, o computador não possui uma interface gráfica (só funciona na linha de comando!). Ou seja, ele precisa compilar e executar um código Java abaixo na linha de comando, no entanto esqueceu os comandos.**\n",
    "\n",
    "Arquivo Programa.java:\n",
    "```java\n",
    "class Programa {\n",
    "\n",
    "    public static void main(String[] args) {\n",
    "        System.out.println(\"Funcionou!!\");\n",
    "    }\n",
    "}\n",
    "```\n",
    "**Quais comandos ele deve usar para compilar e rodar esse código Java?**\n",
    "\n",
    "**Resposta:** \n",
    "```linux\n",
    "javac Programa.java\n",
    "java Programa\n",
    "```"
   ]
  },
  {
   "attachments": {},
   "cell_type": "markdown",
   "metadata": {},
   "source": [
    "## ⭐ Questão 10 (Java)\n",
    "**Podemos programar em Java utilizando editores de textos e IDEs. Nesse contexto, temos as seguintes afirmativas:**\n",
    "\n",
    "1. Um IDE é um ambiente integrado de desenvolvimento que centraliza em um único lugar o compilador da linguagem utilizada, editor de texto, documentação e tudo que gira em torno da criação de aplicações.\n",
    "2. Para quem está começando, o Eclipse IDE for Java EE Developers é o mais recomendado.\n",
    "3. NetBeans e Intellij são outros IDEs famosos do mundo Java.\n",
    "4. Um editor de texto possui tudo o que um IDE oferece.\n",
    "\n",
    "**Marque a opção verdadeira a respeito das afirmações anteriores:**\n",
    "\n",
    "**Resposta:** 1 e 3 são verdadeiras."
   ]
  },
  {
   "attachments": {},
   "cell_type": "markdown",
   "metadata": {},
   "source": [
    "## ⭐ Questão 11 (Eclipse)\n",
    "**O que sabemos sobre o workspace?**\n",
    "\n",
    "**Resposta:**\n",
    "- Cada projeto do Eclipse fica dentro de um workspace.\n",
    "- Um workspace é a pasta padrão que será utilizado para armazenar todos os projetos criados com a IDE Eclipse."
   ]
  },
  {
   "attachments": {},
   "cell_type": "markdown",
   "metadata": {},
   "source": [
    "## ⭐ Questão 12 (Eclipse)\n",
    "**Marque as alternativas verdadeiras:**\n",
    "\n",
    "**Resposta:**\n",
    "- Executamos nosso programa no Eclipse através do menu Run -> Run as -> Java Application.\n",
    "- Dentro de um projeto Java, criamos uma nova classe através da opção do menu File -> New -> Class.\n",
    "- A saída do nosso programa executado pelo Eclipse é feita através da view console."
   ]
  },
  {
   "attachments": {},
   "cell_type": "markdown",
   "metadata": {},
   "source": [
    "## ⭐ Questão 13 (Eclipse)\n",
    "**Marque a alternativa correta a respeito da View Navigator:**\n",
    "\n",
    "**Resposta:**\n",
    "- É parecida com o Windows Explorer do Windows ou o Finder do MAC."
   ]
  },
  {
   "attachments": {},
   "cell_type": "markdown",
   "metadata": {},
   "source": [
    "## ⭐ Questão 14 (Java)\n",
    "**Selecione a opção que mostra como podemos criar e definir o valor de uma variável para representar a quantidade de dias de um mês?**\n",
    "\n",
    "**Resposta:**\n",
    "```java\n",
    "int diasDoMes;\n",
    "diasDoMes = 30;\n",
    "```"
   ]
  },
  {
   "attachments": {},
   "cell_type": "markdown",
   "metadata": {},
   "source": [
    "## ⭐ Questão 15 (Java)\n",
    "**Aprendemos que é possível fazer operações entre números, podemos até fazer operações aritméticas com variáveis de tipos diferentes como multiplicar um inteiro por um número de ponto flutuante (int e double). Verificando cada instrução abaixo diga qual das opções está errada.**\n",
    "\n",
    "**Resposta:**\n",
    "```java\n",
    "int brindes = 15;\n",
    "int pessoas = 2;\n",
    "System.out.println(brindes / pessoas);\n",
    "```\n",
    "Este código é o errado. Pois quando fazemos operações entre inteiros o resultado sempre será inteiro e não de ponto flutuante. O resultado na verdade seria 7."
   ]
  },
  {
   "attachments": {},
   "cell_type": "markdown",
   "metadata": {},
   "source": [
    "## ⭐ Questão 16 (Java)\n",
    "**Agora que já sabemos fazer operações com variáveis e também concatenar texto com números, use o que aprendeu para indicar todas as alternativas abaixo que mostrem o resultado \"A idade de Marcos é 30!\".**\n",
    "\n",
    "**Resposta:**\n",
    "\n",
    "1.\n",
    "```java\n",
    "int idade = 20;\n",
    "System.out.println(\"A idade de Marcos é 30!\");\n",
    "```\n",
    "2.\n",
    "```java\n",
    "double idade = 30.0;\n",
    "System.out.println(\"A idade de Marcos é \" + (int) idade + \"!\");\n",
    "```\n",
    "3.\n",
    "```java\n",
    "int idade = 30;\n",
    "System.out.println(\"A idade de Marcos é \" + idade + \"!\");\n",
    "```"
   ]
  },
  {
   "attachments": {},
   "cell_type": "markdown",
   "metadata": {},
   "source": [
    "## ⭐ Questão 17 (Java)\n",
    "**Rômulo é um grande entusiasta da linguagem Java e está sempre disposto a aprender novas coisas. A última coisa que Rômulo resolveu aprender são Strings e chars em Java, porém ele ainda não tem certeza de como deve declarar cada um dos tipos. Qual das alternativas têm a resposta correta para Rômulo?**\n",
    "\n",
    "**Resposta:**\n",
    "```java\n",
    "String frase = \"Estou sempre disposto a aprender novas tecnologias\";\n",
    "char letra = 'a';\n",
    "```"
   ]
  },
  {
   "attachments": {},
   "cell_type": "markdown",
   "metadata": {},
   "source": [
    "## ⭐ Questão 18 (Java)\n",
    "**Rômulo, depois de assistir aos vídeos deste capítulo, resolveu testar o que foi dito em aula e fez um código para somar dois valores quaisquer.**\n",
    "```java\n",
    "String parcela1 = \"10\";\n",
    "String parcela2 = \"20\";\n",
    "\n",
    "System.out.println(parcela1 + parcela2);\n",
    "```\n",
    "**Rômulo terá o resultado esperado (30) com este trecho de código?**\n",
    "\n",
    "**Resposta:** Não, o resultado será 1020."
   ]
  },
  {
   "attachments": {},
   "cell_type": "markdown",
   "metadata": {},
   "source": [
    "## ⭐ Questão 19 (Java)\n",
    "**Paulo, vendo que Rômulo continuava com algumas dificuldades com Java, resolveu elaborar um desafio para seu amigo utilizando conceitos de concatenação de Strings, vistos neste capítulo. O desafio continha o seguinte trecho de código:**\n",
    "```java\n",
    "String saudacao = \"Olá, meu nome é \";\n",
    "String nome = \"Rômulo \";\n",
    "String continuacao = \"e minha idade é \";\n",
    "int idade = 100;\n",
    "System.out.println(saudacao+nome+continuacao+idade);\n",
    "```\n",
    "**O código de Paulo para Rômulo possui algum problema?**\n",
    "\n",
    "**Resposta:** Não há problemas, a concatenação pode ser feita sem problemas."
   ]
  },
  {
   "attachments": {},
   "cell_type": "markdown",
   "metadata": {},
   "source": [
    "## ⭐ Questão 20 (Java)\n",
    "**João está criando uma aplicação para calcular o IR a partir do salário. Ele olhou na tabela de IRPF e implementou as regras para 15% e 22.5%:**\n",
    "```java\n",
    "public class TesteIR {\n",
    "\n",
    "    public static void main(String[] args) {\n",
    "\n",
    "        double salario = 3300.0;\n",
    "\n",
    "        if(salario < 2600.0) \n",
    "            System.out.println(\"A sua aliquota é de 15%\");\n",
    "            System.out.println(\"Você pode deduzir até R$ 350\");\n",
    "\n",
    "        if(salario < 3750.0) \n",
    "            System.out.println(\"A sua aliquota é de 22,5%\");\n",
    "            System.out.println(\"Você pode deduzir até R$ 636\");\n",
    "    }    \n",
    "}\n",
    "```\n",
    "**Porém o programa tem um comportamento estranho. Ao compilar e rodar, é impresso:**\n",
    "```linux\n",
    "Você pode deduzir até R$ 350\n",
    "A sua aliquota é de 22,5%\n",
    "Você pode deduzir até R$ 636\n",
    "```\n",
    "**Repare que o programa indica que podemos deduzir R$350 E R$636! Como corrigir o problema?**\n",
    "\n",
    "**Resposta:** O problema é que faltam as chaves na condicional. Sem as chaves, o if apenas executará a primeira instrução depois dele."
   ]
  },
  {
   "attachments": {},
   "cell_type": "markdown",
   "metadata": {},
   "source": [
    "## ⭐ Questão 21 (Java)\n",
    "**Veja o código abaixo:**\n",
    "```java\n",
    "int idade = 68;\n",
    "boolean ehIdoso = idade >= 65;\n",
    "```\n",
    "**Executando esse código corretamente dentro de um método main, qual será o valor da variável ehIdoso?**\n",
    "\n",
    "**Resposta:** true."
   ]
  },
  {
   "attachments": {},
   "cell_type": "markdown",
   "metadata": {},
   "source": [
    "## ⭐ Questão 22 (Java)\n",
    "**Abaixo há afirmações referentes às operações lógicas na linguagem Java. Quais delas são verdadeiras?**\n",
    "\n",
    "**Resposta:**\n",
    "- Os operadores lógicos devem ter no lado esquerdo e direito uma expressão booleana.\n",
    "- O operador lógico AND é representado pelos caracteres && e o OR pelo ||."
   ]
  },
  {
   "attachments": {},
   "cell_type": "markdown",
   "metadata": {},
   "source": [
    "## ⭐ Questão 23 (Java)\n",
    "**Dessa vez, João fez uma implementação para calcular o salário de um funcionário em caso de promoção. Ele fez a seguinte implementação:**\n",
    "```java\n",
    "public class TesteSalario {\n",
    "\n",
    "    public static void main(String[] args) {\n",
    "\n",
    "        boolean foiPromovido = true;\n",
    "\n",
    "        if(foiPromovido) {\n",
    "            double salario = 4200.0;\n",
    "        } else {\n",
    "            double salario = 3800.0;\n",
    "        }\n",
    "\n",
    "        System.out.println(salario);\n",
    "    }\n",
    "}\n",
    "```\n",
    "**Qual será o resultado da compilação/execução?**\n",
    "\n",
    "**Resposta:** O código nem compila, pois fora do bloco if/else a variável salario não existe mais."
   ]
  },
  {
   "attachments": {},
   "cell_type": "markdown",
   "metadata": {},
   "source": [
    "## ⭐ Questão 24 (Java)\n",
    "**Quais as afirmações abaixo são verdadeiras em relação ao while?**\n",
    "\n",
    "**Resposta:**\n",
    "- Na expressão condicional do while é possível utilizar qualquer operador de comparação (< [menor], > [maior], <= [menor ou igual], >= [maior ou igual], == [igual a] e != [diferente de]) e qualquer operador lógico (&& [and], || [ou]).\n",
    "- O while sempre precisará de uma expressão condicional que definirá quando o laço deve ser interrompido."
   ]
  },
  {
   "attachments": {},
   "cell_type": "markdown",
   "metadata": {},
   "source": [
    "## ⭐ Questão 25 (Java)\n",
    "**Clarice está em dúvida sobre o modo como o break funciona quando utilizado dentro de laços de repetição aninhados. Escolha a opção que descreve exatamente o funcionamento desse comando nessas situações.**\n",
    "\n",
    "**Resposta:** Para a execução do laço mais interno que contém o comando break e continua executando os laços mais externos."
   ]
  },
  {
   "attachments": {},
   "cell_type": "markdown",
   "metadata": {},
   "source": [
    "## ⭐ Questão 26 (Java)\n",
    "**Após assistir as aulas de aninhamento de laços de repetição e sobre o comando break, Fernando decidiu criar um código como forma de treinamento que imprime na tela o seguinte:**\n",
    "```linux\n",
    "1\n",
    "12\n",
    "123\n",
    "1234\n",
    "12345\n",
    "```\n",
    "**Para isso, ele criou o seguinte código:**\n",
    "```java\n",
    "public class ProgramaComBreak {\n",
    "    public static void main(String args[]) {\n",
    "        for(int linha = 0; linha < 5; linha++) {\n",
    "            for (int coluna = 0; coluna < 5; coluna++) {\n",
    "                if ( ??? ) {\n",
    "                    break;\n",
    "                }\n",
    "                System.out.print( ??? );\n",
    "            }\n",
    "            System.out.println();\n",
    "        }\n",
    "    }\n",
    "}\n",
    "```\n",
    "**No entanto, ele está em dúvida sobre como deve preencher os espaços com ???. Selecione a opção que mostra respectivamente as formas corretas de preenchimento do código. Se tiver com dúvida, faça o teste e execute o programa.**\n",
    "\n",
    "**Resposta:** coluna > linha e coluna+1"
   ]
  }
 ],
 "metadata": {
  "kernelspec": {
   "display_name": "Python 3",
   "language": "python",
   "name": "python3"
  },
  "language_info": {
   "name": "python",
   "version": "3.11.0 (main, Oct 24 2022, 18:26:48) [MSC v.1933 64 bit (AMD64)]"
  },
  "orig_nbformat": 4,
  "vscode": {
   "interpreter": {
    "hash": "c261aea317cc0286b3b3261fbba9abdec21eaa57589985bb7a274bf54d6cc0a7"
   }
  }
 },
 "nbformat": 4,
 "nbformat_minor": 2
}
