{
 "cells": [
  {
   "attachments": {},
   "cell_type": "markdown",
   "metadata": {},
   "source": [
    "# Java Polimorfismo: entenda herança e interfaces\n",
    "\n",
    "## ⭐ Questão 1 (Java)\n",
    "**Das alternativas abaixo, quais são verdadeiras sobre construtores em Java?**\n",
    "\n",
    "**Resposta:**\n",
    "- O construtor padrão (default) é aquele que não recebe nenhum parâmetro.\n",
    "- O construtor é chamado na inicialização do objeto."
   ]
  },
  {
   "attachments": {},
   "cell_type": "markdown",
   "metadata": {},
   "source": [
    "## ⭐ Questão 2 (Java)\n",
    "\n",
    "**Quais foram os problemas apresentados na implementação da classe Funcionario?**\n",
    "\n",
    "**Respostas:**\n",
    "- Repetição de código;\n",
    "- Muitos ifs que nunca param de crescer;\n",
    "- Código pouco expressivo."
   ]
  },
  {
   "attachments": {},
   "cell_type": "markdown",
   "metadata": {},
   "source": [
    "## ⭐ Questão 3 (Java)\n",
    "**Vimos como estender uma classe no Java, por exemplo:**\n",
    "```java\n",
    "class Gerente extends Funcionario {}\n",
    "```\n",
    "**A classe Gerente, ao estender a classe Funcionario:**\n",
    "> A) Herda todas as características da classe Funcionario.  \n",
    "> B) Herda todo o comportamento da classe Funcionario.  \n",
    "> C) Instancia um Funcionario.  \n",
    "> D) É um Funcionario.  \n",
    "**Quais das afirmativas são verdadeiras?**\n",
    "\n",
    "**Resposta:**\n",
    "- Afirmativas A, B e D."
   ]
  },
  {
   "attachments": {},
   "cell_type": "markdown",
   "metadata": {},
   "source": [
    "## ⭐ Questão 4 (Java)\n",
    "**Qual é a sintaxe correta para estender uma classe no Java?**\n",
    "\n",
    "**Resposta:**\n",
    "```java\n",
    "class Carro extends Veiculo {}\n",
    "```"
   ]
  },
  {
   "attachments": {},
   "cell_type": "markdown",
   "metadata": {},
   "source": [
    "## ⭐ Questão 5 (Java)\n",
    "**Em relação ao que você aprendeu até agora, qual é a ordem correta dos modificadores de visibilidade, da menor visibilidade para a maior?**\n",
    "\n",
    "**Resposta:**\n",
    "- private < protected < public"
   ]
  },
  {
   "attachments": {},
   "cell_type": "markdown",
   "metadata": {},
   "source": [
    "## ⭐ Questão 6 (Java)\n",
    "**Vimos que a sobrescrita é um conceito importante na herança, pois permite redefinir um comportamento previsto na classe mãe através da classe filha. Agora veja a classe Veiculo abaixo:**\n",
    "```java\n",
    "class Veiculo {\n",
    "    public void liga() {\n",
    "        // alguma implementação\n",
    "    }\n",
    "}\n",
    "```\n",
    "**E a classe filha Carro:**\n",
    "```java\n",
    "class Carro extends Veiculo {\n",
    "    // ????\n",
    "}\n",
    "```\n",
    "**Qual dos métodos abaixo inserido no lugar de // ???? sobrescreve corretamente o método liga?**\n",
    "\n",
    "**Resposta:**\n",
    "```java\n",
    "public void liga() {\n",
    "    // implementação\n",
    "}\n",
    "```\n",
    "> **Comentário da Alura:** Como regra de ouro, na sobrescrita a visibilidade não pode diminuir, deve ser a mesma ou maior! Repare que o método possui a mesma assinatura. Isto é, a mesma visibilidade, mesmo retorno, mesmo nome e os mesmos parâmetros."
   ]
  },
  {
   "attachments": {},
   "cell_type": "markdown",
   "metadata": {},
   "source": [
    "## ⭐ Questão 7 (Java)\n",
    "**Sobre herança em Java, julgue as seguintes afirmativas:**\n",
    "1. Uma classe pode ter várias filhas, mas apenas uma mãe.\n",
    "2. A partir de uma instância de uma classe filha, podemos chamar qualquer método público que tenha sido declarado na classe mãe.\n",
    "3. Na classe filha, podemos escolher o que herdar da classe mãe.\n",
    "4. No exemplo abaixo, Cachorro também herda tudo da classe Animal:\n",
    "```java\n",
    "class Animal {\n",
    "    // atributos e métodos\n",
    "}\n",
    "\n",
    "class Mamifero extends Animal {\n",
    "    // atributos e métodos\n",
    "}\n",
    "\n",
    "class Cachorro extends Mamifero {\n",
    "    // atributos e métodos\n",
    "}\n",
    "```\n",
    "**Quais afirmativas estão corretas?**\n",
    "\n",
    "**Resposta:** Apenas as afirmativas 1, 2 e 4 estão corretas.\n",
    "\n",
    "> **Comentário da Alura:** Pode-se sim chamar qualquer método da classe mãe. Uma classe pode ter diversas \"filhas e netas\" (que herdam umas das outras), mas não podemos escolher o que será herdado."
   ]
  },
  {
   "attachments": {},
   "cell_type": "markdown",
   "metadata": {},
   "source": [
    "## ⭐ Questão 8 (Java)\n",
    "**Qual é a diferença entre private e protected?**\n",
    "\n",
    "**Resposta:** Só a própria classe enxerga atributos/métodos private, enquanto protected é visto pela própria classe mais as classes filhas."
   ]
  },
  {
   "attachments": {},
   "cell_type": "markdown",
   "metadata": {},
   "source": [
    "## ⭐ Questão 9 (Java)\n",
    "**Dada a classe Veiculo:**\n",
    "```java\n",
    "public class Veiculo {\n",
    "    public void liga() {\n",
    "        System.out.println(\"Ligando Veiculo\");\n",
    "    }\n",
    "}\n",
    "```\n",
    "**A classe Carro:**\n",
    "```java\n",
    "class Carro extends Veiculo {\n",
    "    public void liga() {\n",
    "        System.out.println(\"Ligando Carro\");\n",
    "    }\n",
    "}\n",
    "```\n",
    "**E a classe Moto:**\n",
    "```java\n",
    "class Moto extends Veiculo {\n",
    "    public void liga() {\n",
    "        System.out.println(\"Ligando Moto\");\n",
    "    }\n",
    "}\n",
    "```\n",
    "**Veja o código com o método main:**\n",
    "```java\n",
    "public class Teste {\n",
    "\n",
    "    public static void main(String[] args) {\n",
    "\n",
    "        Veiculo m = new Moto();\n",
    "        m.liga();\n",
    "\n",
    "        Veiculo c = new Carro(); \n",
    "        c.liga();\n",
    "    } \n",
    "\n",
    "}\n",
    "```\n",
    "**Ao executar, o que será impresso no console?**\n",
    "\n",
    "**Resposta:** Ligando Moto Ligando Carro\n",
    "\n",
    "> **Comentário da Alura:** Sempre será chamado o método mais específico."
   ]
  },
  {
   "attachments": {},
   "cell_type": "markdown",
   "metadata": {},
   "source": [
    "## ⭐ Questão 10 (Java)\n",
    "**Veja o código abaixo, que deve estar dentro do método main:**\n",
    "```java\n",
    "Funcionario f = new Gerente();\n",
    "f.autentica(1234);\n",
    "```\n",
    "**Baseado no que você aprendeu na aula, por que o código não compilou?**\n",
    "\n",
    "**Resposta:** Porque a referência f é do tipo Funcionario e a classe Funcionario não tem o método autentica."
   ]
  },
  {
   "attachments": {},
   "cell_type": "markdown",
   "metadata": {},
   "source": [
    "## ⭐ Questão 11 (Java)\n",
    "**Continuando com o exemplo Veiculo, Moto e Carro:**\n",
    "```java\n",
    "public class Veiculo {\n",
    "    public void liga() {\n",
    "        System.out.println(\"Ligando Veiculo\");\n",
    "    }\n",
    "}\n",
    "\n",
    "public class Carro extends Veiculo {\n",
    "    public void liga() {\n",
    "        System.out.println(\"Ligando Carro\");\n",
    "    }\n",
    "}\n",
    "\n",
    "public class Moto extends Veiculo {\n",
    "    public void liga() {\n",
    "        System.out.println(\"Ligando Moto\");\n",
    "    }\n",
    "}\n",
    "```\n",
    "**E veja o código quase completo:**\n",
    "```java\n",
    "public class Teste {\n",
    "\n",
    "    public static void main(String[] args) {\n",
    "\n",
    "        ???? v = new Carro(); \n",
    "\n",
    "    } \n",
    "\n",
    "}\n",
    "```\n",
    "**O que podemos inserir no lugar de ???? para compilar o código sem erros?**\n",
    "\n",
    "**Resposta:** Os tipos Carro ou Veiculo."
   ]
  },
  {
   "attachments": {},
   "cell_type": "markdown",
   "metadata": {},
   "source": [
    "## ⭐ Questão 12 (Java)\n",
    "**No mundo orientado a objetos, o polimorfismo permite que ...**\n",
    "\n",
    "**Resposta:** Referências de tipos de classes mais genéricas referenciem objetos mais específicos."
   ]
  },
  {
   "attachments": {},
   "cell_type": "markdown",
   "metadata": {},
   "source": [
    "## ⭐ Questão 13 (Java)\n",
    "**Sobre a herança de classes, todas as afirmativas abaixo são verdadeiras, exceto:**\n",
    "\n",
    "**Resposta:** Quando uma classe herda de outra, ela recebe também seus construtores automaticamente.\n",
    "\n",
    "> **Comentário da Alura:** Não é verdade, pois recebe apenas seus métodos e atributos. Lembra-se não tem herança de construtores"
   ]
  },
  {
   "attachments": {},
   "cell_type": "markdown",
   "metadata": {},
   "source": [
    "## ⭐ Questão 14 (Java)\n",
    "**Aprendemos que a construção de um objeto é baseada em seu(s) construtor(es). Qual das alternativas abaixo é a correta?**\n",
    "\n",
    "**Resposta:** O construtor default do java deixa de existir a partir do momento que algum é declarado na classe."
   ]
  },
  {
   "attachments": {},
   "cell_type": "markdown",
   "metadata": {},
   "source": [
    "## ⭐ Questão 15 (Java)\n",
    "**Na última aula vimos sobre a anotação @Override. Qual a finalidade dela?**\n",
    "\n",
    "**Resposta:** É usada para sobrescrever o método da classe mãe, indicando que o método original foi alterado."
   ]
  },
  {
   "attachments": {},
   "cell_type": "markdown",
   "metadata": {},
   "source": [
    "## ⭐ Questão 16 (Java)\n",
    "**Qual das afirmativas abaixo é VERDADEIRA sobre classes abstratas?**\n",
    "\n",
    "**Resposta:** Não podem ser instanciadas. Para instanciar, devemos criar primeiro uma classe filha não abstrata."
   ]
  },
  {
   "attachments": {},
   "cell_type": "markdown",
   "metadata": {},
   "source": [
    "## ⭐ Questão 17 (Java)\n",
    "**Qual das afirmativas abaixo é verdadeira sobre os métodos abstratos?**\n",
    "\n",
    "**Resposta:** Não possuem corpo (implementação), apenas definem a assinatura."
   ]
  },
  {
   "attachments": {},
   "cell_type": "markdown",
   "metadata": {},
   "source": [
    "## ⭐ Questão 18 (Java)\n",
    "**Sobre classes e métodos abstratos, das afirmativas abaixo, qual delas é FALSA?**\n",
    "\n",
    "**Resposta:** Classes e métodos abstratos consomem menos memória e por conta disso melhoram o desempenho do nosso programa.\n",
    "\n",
    "> **Comentário da Alura:** Essa afirmação realmente é errada. Classes e métodos abstratos não tem relação direta com consumo de memória."
   ]
  },
  {
   "attachments": {},
   "cell_type": "markdown",
   "metadata": {},
   "source": [
    "## ⭐ Questão 19 (Java)\n",
    "**O que é verdade sobre classes abstratas? Selecione todas as afirmações verdadeiras:**\n",
    "\n",
    "**Respostas:** \n",
    "- Podem ter atributos\n",
    "- Podem ter métodos concretos (com implementação)\n",
    "- Podem ter métodos abstratos (sem implementação)\n",
    "- Não podem ser instanciadas"
   ]
  },
  {
   "attachments": {},
   "cell_type": "markdown",
   "metadata": {},
   "source": [
    "## ⭐ Questão 20 (Java)\n",
    "**Vimos na última aula que não existe herança múltipla em Java. Como podemos contornar a falta disso?**\n",
    "\n",
    "**Resposta:** Podemos contornar esta situação com o uso de interfaces."
   ]
  },
  {
   "attachments": {},
   "cell_type": "markdown",
   "metadata": {},
   "source": [
    "## ⭐ Questão 21 (Java)\n",
    "**Sobre interfaces, qual das alternativas abaixo é VERDADEIRA?**\n",
    "\n",
    "**Resposta:** Ela é um contrato onde quem assina se responsabiliza por implementar esses métodos (cumprir o contrato)"
   ]
  },
  {
   "attachments": {},
   "cell_type": "markdown",
   "metadata": {},
   "source": [
    "## ⭐ Questão 22 (Java)\n",
    "**Sobre classes abstratas e interfaces, selecione todas as afirmativas verdadeiras:**\n",
    "\n",
    "**Respostas:**\n",
    "- Podemos estender apenas uma classe abstrata, mas podemos implementar várias interfaces.\n",
    "- Todos os métodos de uma interface são abstratos, os de uma classe abstrata podem não ser."
   ]
  },
  {
   "attachments": {},
   "cell_type": "markdown",
   "metadata": {},
   "source": [
    "## ⭐ Questão 23 (Java)\n",
    "**Quanto ao conceito do Polimorfismo marque as alternativas corretas:**\n",
    "\n",
    "**Respostas:**\n",
    "- É a capacidade de um objeto ser referenciado por vários tipos.\n",
    "- Temos polimorfismo quando uma classe extende de outra ou também quando uma classe implementa uma interface."
   ]
  },
  {
   "attachments": {},
   "cell_type": "markdown",
   "metadata": {},
   "source": [
    "## ⭐ Questão 24 (Java)\n",
    "**Como vimos durante o curso e revisamos durante este capítulo, quais das afirmativas abaixo descreve uma vantagem do uso de herança?**\n",
    "\n",
    "**Resposta:** A herança captura o que é comum e isola aquilo que é diferente entre classes."
   ]
  },
  {
   "attachments": {},
   "cell_type": "markdown",
   "metadata": {},
   "source": [
    "## ⭐ Questão 25 (Java)\n",
    "**Como vimos durante o curso e revisamos durante este capítulo, quais das afirmativas abaixo descreve uma vantagem do uso de interfaces?**\n",
    "\n",
    "**Resposta:** Garante que todos os métodos de classes que implementam uma interface possam ser chamados com segurança."
   ]
  },
  {
   "attachments": {},
   "cell_type": "markdown",
   "metadata": {},
   "source": [
    "## ⭐ Questão 26 (Java)\n",
    "**Qual das afirmativas a seguir representa uma vantagem do uso de composição e interfaces sobre o uso de herança?**\n",
    "\n",
    "**Resposta:** Com composições e interfaces teremos mais flexibilidade com nosso código, já que não nos prenderemos ao acoplamento que a herança propõe."
   ]
  }
 ],
 "metadata": {
  "kernelspec": {
   "display_name": "Python 3",
   "language": "python",
   "name": "python3"
  },
  "language_info": {
   "name": "python",
   "version": "3.11.0 (main, Oct 24 2022, 18:26:48) [MSC v.1933 64 bit (AMD64)]"
  },
  "orig_nbformat": 4,
  "vscode": {
   "interpreter": {
    "hash": "c261aea317cc0286b3b3261fbba9abdec21eaa57589985bb7a274bf54d6cc0a7"
   }
  }
 },
 "nbformat": 4,
 "nbformat_minor": 2
}
